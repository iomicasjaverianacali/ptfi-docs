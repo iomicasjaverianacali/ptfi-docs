{
 "cells": [
  {
   "cell_type": "markdown",
   "id": "b0521372",
   "metadata": {},
   "source": [
    "# Full pipeline script"
   ]
  },
  {
   "cell_type": "markdown",
   "id": "412b0c57",
   "metadata": {},
   "source": [
    "The script `predict_CASMI_2022_modular.py` executes end-to-end workflow:\n",
    "\n",
    "- Receives raw sample experimental .mzML files (accounting for MS1 - and/or MS2, depending on the protocol -)\n",
    "- Outputs a folder with SMILES predictions for all the assumed metabolites and a pickle (`.pkl`) file containing the MS/MS predicted spectrums "
   ]
  },
  {
   "cell_type": "markdown",
   "id": "1bb04ab4",
   "metadata": {},
   "source": [
    "To get the list of the arguments the script uses, set your current directory to the `scripts` folder of the repo, and then execute:\n",
    "\n",
    "```bash\n",
    "python predict_CASMI_2022_modular.py --help\n",
    "```"
   ]
  },
  {
   "cell_type": "markdown",
   "id": "0202c7e3",
   "metadata": {},
   "source": [
    "Some of the arguments are:\n",
    "\n",
    "- *-h*, *--help*: show this help message and exit\n",
    "- *--chromatograms_dir*: Directory containing .mzML files for chromatograms\n",
    "- *--ddas_dir*: Directory containing .mzML files for DDA (optional)\n",
    "- *--model_dir*: Path to directory containing models\n",
    "- *--model_name*: Name of the model to use\n",
    "- *--output_dir*: Output directory for prediction results\n",
    "- *--protocol*: Protocol to use: \"CASMI\" or \"ptfi\" (default: CASMI)\n",
    "- *--params_file*: JSON file containing prediction parameters (optional)\n",
    "- *--num_pred*: Number of predictions to make (default: 3)\n",
    "- *--device*: Device to run predictions on (default: cpu)\n",
    "- *--pickle_path*: Path to save the MS data as a pickle file (default: output_dir/ms_data.pkl)"
   ]
  },
  {
   "cell_type": "markdown",
   "id": "89f0d24b",
   "metadata": {},
   "source": [
    "An example of usage is:\n",
    "\n",
    "```bash\n",
    "python predict_CASMI_2022_modular.py --chromatograms_dir /shared/users/ptfi/data/CASMI/pos/A_M1_posPFP --model_dir /shared/users/ptfi/models --model_name dd_arch1_lf1_data_1.pth --output_dir /users/jdvillegas/ptfi-frijol-pujc/results/A_M1_posPFP --num_pred 3 --device cpu --protocol CASMI --params_file /home/julian/Documents/repos/ptfi-frijol-pujc/scripts/prediction_params.json --mass_trace_noise_threshold_int 15000\n",
    "```"
   ]
  },
  {
   "cell_type": "markdown",
   "id": "35c0daef",
   "metadata": {},
   "source": [
    "The full list of parameters has the parameters used in scripts `predict_known_metabolites_dec_2024.py` and `Features_Concensus_extraction.py`"
   ]
  }
 ],
 "metadata": {
  "language_info": {
   "name": "python"
  }
 },
 "nbformat": 4,
 "nbformat_minor": 5
}
