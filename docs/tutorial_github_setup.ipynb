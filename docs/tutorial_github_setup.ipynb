{
 "cells": [
  {
   "cell_type": "markdown",
   "id": "44117eeb",
   "metadata": {},
   "source": [
    "# About Github"
   ]
  },
  {
   "cell_type": "markdown",
   "id": "39d4a5bd",
   "metadata": {},
   "source": [
    "<img src=\"/home/julian/Documents/repos/ptfi-frijol-pujc/docs/assets/github_screen_shot.png\" alt=\"Alternative text\" />"
   ]
  },
  {
   "cell_type": "markdown",
   "id": "f41e9ee0",
   "metadata": {},
   "source": [
    "These are the active branches under development:\n",
    "\n",
    "- main (all be merged to here in the future)\n",
    "- gustavo_branch (preprediction branch)\n",
    "- v2 (prediction branch)\n",
    "\n",
    "<img src=\"/home/julian/Documents/repos/ptfi-frijol-pujc/docs/assets/active_github_branches.png\" alt=\"Alternative text\" />"
   ]
  },
  {
   "cell_type": "markdown",
   "id": "a3d7dc29",
   "metadata": {},
   "source": [
    "### NOTE\n",
    "\n",
    "- Latest preprediction features are available in the `gustavo_branch`\n",
    "- Latest prediction features are available in the `v2` branch\n",
    "- Stable features are available in the `main` branch"
   ]
  },
  {
   "cell_type": "markdown",
   "id": "89894015",
   "metadata": {},
   "source": [
    "## Download main repo"
   ]
  },
  {
   "cell_type": "markdown",
   "id": "e87dcc54",
   "metadata": {},
   "source": [
    "**For non developers**:\n",
    "\n",
    "1. Since the repo is private, ask for a Personal Access Token (PAT) to github admins (Julian, Camila)\n",
    "\n",
    "**For developers**:\n",
    "\n",
    "1. Ask github admins for a github request to contribute. After that, create your own PAT."
   ]
  },
  {
   "cell_type": "markdown",
   "id": "528e4f0c",
   "metadata": {},
   "source": [
    "2. Set your working directory in a terminal to the place where to locate the repo, and execute\n",
    "\n",
    "```bash\n",
    "git clone https://<USERNAME>:<TOKEN>@github.com/iomicasjaverianacali/ptfi-frijol-pujc.git\n",
    "```\n",
    "\n",
    "**For non developers**:\n",
    "- USERNAME: jvjav\n",
    "- TOKEN: the PAT provided by the github admin\n",
    "\n",
    "**For developers**:\n",
    "- USERNAME: your github username\n",
    "- TOKEN: the PAT you created"
   ]
  },
  {
   "cell_type": "markdown",
   "id": "cc3b52fe",
   "metadata": {},
   "source": [
    "## Set a virtual environment"
   ]
  },
  {
   "cell_type": "markdown",
   "id": "c64cd473",
   "metadata": {},
   "source": [
    "1. Install conda (anaconda)"
   ]
  },
  {
   "cell_type": "markdown",
   "id": "eb63c3c4",
   "metadata": {},
   "source": [
    "2. Create a new environment:\n",
    "\n",
    "```bash\n",
    "conda create --name thenameyouwant\n",
    "```"
   ]
  },
  {
   "cell_type": "markdown",
   "id": "ce74b520",
   "metadata": {},
   "source": [
    "3. Activate the environment:\n",
    "\n",
    "```bash\n",
    "conda activate thenameyouwant\n",
    "```"
   ]
  },
  {
   "cell_type": "markdown",
   "id": "4a178d6d",
   "metadata": {},
   "source": [
    "## Install packages needed"
   ]
  },
  {
   "cell_type": "markdown",
   "id": "e869c2fc",
   "metadata": {},
   "source": [
    "Make sure you are in the directory having the `requirements.txt` file. From there execute:\n",
    "\n",
    "```bash\n",
    "pip install -r requirements.txt\n",
    "```"
   ]
  }
 ],
 "metadata": {
  "language_info": {
   "name": "python"
  }
 },
 "nbformat": 4,
 "nbformat_minor": 5
}
