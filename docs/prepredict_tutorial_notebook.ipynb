{
 "cells": [
  {
   "cell_type": "markdown",
   "metadata": {},
   "source": [
    "<img src=\"/home/julian/Documents/repos/ptfi-frijol-pujc/docs/assets/pre-prediction-workflow-diagram.png\" alt=\"Pre-prediction step in the workflow\" width=\"600\"/>"
   ]
  }
 ],
 "metadata": {
  "language_info": {
   "name": "python"
  }
 },
 "nbformat": 4,
 "nbformat_minor": 2
}
